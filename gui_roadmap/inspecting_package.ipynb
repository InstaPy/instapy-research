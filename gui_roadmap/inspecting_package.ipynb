{
 "cells": [
  {
   "cell_type": "code",
   "execution_count": 19,
   "metadata": {},
   "outputs": [],
   "source": [
    "class instapy:\n",
    "    def __init__(self):\n",
    "        pass\n",
    "    \n",
    "    def follow_user(self, param, bla: int, hallo = None):\n",
    "        print(f'follow user called !! param: {param}')"
   ]
  },
  {
   "cell_type": "code",
   "execution_count": 21,
   "metadata": {},
   "outputs": [
    {
     "name": "stdout",
     "output_type": "stream",
     "text": [
      "function found: follow_user\n",
      "signature: (param, bla:int, hallo=None)\n",
      "param\n",
      "bla\n",
      "hallo\n",
      "wow works with default values and data types !!\n"
     ]
    }
   ],
   "source": [
    "from inspect import signature\n",
    "\n",
    "real_funcs = []\n",
    "for func in dir(instapy):\n",
    "    if func.startswith('__') and func.endswith('__'):\n",
    "        # just a class function\n",
    "        continue\n",
    "    \n",
    "    print(f'function found: {func}')\n",
    "    real_funcs.append(func)\n",
    "    \n",
    "session = instapy()\n",
    "\n",
    "for func in real_funcs:\n",
    "    sig = signature(getattr(session, func))\n",
    "    print(f'signature: {sig}')\n",
    "    for par in sig.parameters:\n",
    "        print(str(par))\n",
    "    \n",
    "    \n",
    "print('wow works with default values and data types !!')"
   ]
  }
 ],
 "metadata": {
  "kernelspec": {
   "display_name": "Python 3",
   "language": "python",
   "name": "python3"
  },
  "language_info": {
   "codemirror_mode": {
    "name": "ipython",
    "version": 3
   },
   "file_extension": ".py",
   "mimetype": "text/x-python",
   "name": "python",
   "nbconvert_exporter": "python",
   "pygments_lexer": "ipython3",
   "version": "3.6.5"
  }
 },
 "nbformat": 4,
 "nbformat_minor": 2
}
